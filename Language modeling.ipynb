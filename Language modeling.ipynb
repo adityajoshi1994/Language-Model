{
 "cells": [
  {
   "cell_type": "code",
   "execution_count": 1,
   "metadata": {
    "collapsed": true
   },
   "outputs": [],
   "source": [
    "import numpy as np\n",
    "import collections\n",
    "from math import log\n",
    "import sys\n",
    "import random\n",
    "import matplotlib\n",
    "import matplotlib.pyplot as plt\n",
    "import sklearn\n",
    "from sklearn import feature_extraction\n",
    "% matplotlib inline"
   ]
  },
  {
   "cell_type": "code",
   "execution_count": 2,
   "metadata": {
    "collapsed": true
   },
   "outputs": [],
   "source": [
    "# Python 3 backwards compatibility tricks\n",
    "if sys.version_info.major > 2:\n",
    "\n",
    "    def xrange(*args, **kwargs):\n",
    "        return iter(range(*args, **kwargs))\n",
    "\n",
    "    def unicode(*args, **kwargs):\n",
    "        return str(*args, **kwargs)\n",
    "\n",
    "class LangModel:\n",
    "    def fit_corpus(self, corpus):\n",
    "        \"\"\"Learn the language model for the whole corpus.\n",
    "\n",
    "        The corpus consists of a list of sentences.\"\"\"\n",
    "        for s in corpus:\n",
    "            self.fit_sentence(s)\n",
    "        self.norm()\n",
    "\n",
    "    def perplexity(self, corpus):\n",
    "        \"\"\"Computes the perplexity of the corpus by the model.\n",
    "\n",
    "        Assumes the model uses an EOS symbol at the end of each sentence.\n",
    "        \"\"\"\n",
    "        return pow(2.0, self.entropy(corpus))\n",
    "\n",
    "    def entropy(self, corpus):\n",
    "        num_words = 0.0\n",
    "        sum_logprob = 0.0\n",
    "        for s in corpus:\n",
    "            num_words += len(s) + 1 # for Linespace\n",
    "            sum_logprob += self.logprob_sentence(['_LINESPACE']+s)\n",
    "        return -(1.0/num_words)*(sum_logprob)\n",
    "\n",
    "    def logprob_sentence(self, sentence):\n",
    "        p = 0.0\n",
    "        for i in range(1,len(sentence)):\n",
    "            p += self.cond_logprob(sentence[i], sentence[:i])\n",
    "        p += self.cond_logprob('_LINESPACE', sentence)\n",
    "        return p\n",
    "\n",
    "    # required, update the model when a sentence is observed\n",
    "    def fit_sentence(self, sentence): pass\n",
    "    # optional, if there are any post-training steps (such as normalizing probabilities)\n",
    "    def norm(self): pass\n",
    "    # required, return the log2 of the conditional prob of word, given previous words\n",
    "    def cond_logprob(self, word, previous): pass\n",
    "    # required, the list of words the language model supports (including EOS)\n",
    "    def vocab(self): pass"
   ]
  },
  {
   "cell_type": "code",
   "execution_count": 3,
   "metadata": {
    "collapsed": true
   },
   "outputs": [],
   "source": [
    "class Unigram(LangModel):\n",
    "    def __init__(self, backoff = 0.000001):\n",
    "        self.model = dict()\n",
    "        self.lbackoff = log(backoff, 2)\n",
    "        \n",
    "    def inc_word(self, w):\n",
    "        if w in self.model:\n",
    "            self.model[w] += 1.0\n",
    "        else:\n",
    "            self.model[w] = 1.0\n",
    "\n",
    "    def fit_sentence(self, sentence):\n",
    "        for w in sentence:\n",
    "            self.inc_word(w)\n",
    "        self.inc_word('_LINESPACE')\n",
    "\n",
    "    def norm(self):\n",
    "        \"\"\"Normalize and convert to log2-probs.\"\"\"\n",
    "        tot = 0.0\n",
    "        for word in self.model:\n",
    "            tot += self.model[word]\n",
    "        ltot = log(tot, 2)\n",
    "        for word in self.model:\n",
    "            self.model[word] = log(self.model[word], 2) - ltot\n",
    "\n",
    "    def cond_logprob(self, word, previous):\n",
    "        if word in self.model:\n",
    "            return self.model[word]\n",
    "        else:\n",
    "            return self.lbackoff\n",
    "\n",
    "    def vocab(self):\n",
    "        return self.model.keys()"
   ]
  },
  {
   "cell_type": "code",
   "execution_count": 4,
   "metadata": {
    "collapsed": true
   },
   "outputs": [],
   "source": [
    "class Bigram(LangModel):\n",
    "    def __init__(self, backoff = 0.000001):\n",
    "        self.model = dict()\n",
    "        self.lbackoff = log(backoff, 2)\n",
    "        self.vocabulary = dict()\n",
    "        \n",
    "    def inc_word(self, w):\n",
    "        if w in self.model:\n",
    "            self.model[w] += 1.0\n",
    "        else:\n",
    "            self.model[w] = 1.0\n",
    "\n",
    "    def fit_sentence(self, sentence):\n",
    "        s = ['_LINESPACE'] + sentence + ['_LINESPACE']\n",
    "        for w in s:\n",
    "            self.inc_word(w)\n",
    "            self.vocabulary[w] = 1\n",
    "        #self.inc_word('_LINESPACE')\n",
    "        \n",
    "        for i in range(2,3):\n",
    "            for j in range(len(s)-i+1):\n",
    "                self.inc_word(tuple(s[j:j+i]))\n",
    "\n",
    "    def cond_logprob(self, word, previous):\n",
    "        if (len(previous)>=1 and tuple([previous[-1]] + [word]) in self.model):\n",
    "            return log(self.model[tuple([previous[-1]] + [word])]/self.model[previous[-1]],2)\n",
    "        elif word in self.model:\n",
    "            return log(self.model[word]/len(self.vocabulary),2)\n",
    "        else:\n",
    "            return self.lbackoff\n",
    "\n",
    "    def vocab(self):\n",
    "        return self.vocabulary.keys()"
   ]
  },
  {
   "cell_type": "code",
   "execution_count": 5,
   "metadata": {
    "collapsed": true
   },
   "outputs": [],
   "source": [
    "class Trigram(LangModel):\n",
    "    def __init__(self, backoff = 0.000001):\n",
    "        self.model = dict()\n",
    "        self.lbackoff = log(backoff, 2)\n",
    "        self.vocabulary = dict()\n",
    "        \n",
    "    def inc_word(self, w):\n",
    "        if w in self.model:\n",
    "            self.model[w] += 1.0\n",
    "        else:\n",
    "            self.model[w] = 1.0\n",
    "\n",
    "    def fit_sentence(self, sentence):\n",
    "        s = ['_LINESPACE'] + sentence + ['_LINESPACE']\n",
    "        for w in s:\n",
    "            self.inc_word(w)\n",
    "            self.vocabulary[w] = 1\n",
    "        #self.inc_word('_LINESPACE')\n",
    "        \n",
    "        for i in range(2,4):\n",
    "            for j in range(len(s)-i+1):\n",
    "                self.inc_word(tuple(s[j:j+i]))\n",
    "\n",
    "    def cond_logprob(self, word, previous):\n",
    "        if (len(previous)>=2 and tuple(previous[-2:] + [word]) in self.model):\n",
    "            return log(self.model[tuple(previous[-2:] + [word])]/self.model[tuple(previous[-2:])],2)\n",
    "        elif (len(previous)>=1 and tuple([previous[-1]] + [word]) in self.model):\n",
    "            return log(self.model[tuple([previous[-1]] + [word])]/self.model[previous[-1]],2)\n",
    "        elif word in self.model:\n",
    "            return log(self.model[word]/len(self.vocabulary),2)\n",
    "        else:\n",
    "            return self.lbackoff\n",
    "\n",
    "    def vocab(self):\n",
    "        return self.vocabulary.keys()"
   ]
  },
  {
   "cell_type": "code",
   "execution_count": 6,
   "metadata": {
    "collapsed": true
   },
   "outputs": [],
   "source": [
    "class Sampler:\n",
    "    def __init__(self, lm, temp = 1.0):\n",
    "        \"\"\"Sampler for a given language model.\n",
    "\n",
    "        Supports the use of temperature, i.e. how peaky we want to treat the\n",
    "        distribution as. Temperature of 1 means no change, temperature <1 means\n",
    "        less randomness (samples high probability words even more), and temp>1\n",
    "        means more randomness (samples low prob words more than otherwise). See\n",
    "        simulated annealing for what this means.\n",
    "        \"\"\"\n",
    "        self.lm = lm\n",
    "        self.rnd = random.Random()\n",
    "        self.temp = temp\n",
    "\n",
    "    def sample_sentence(self, prefix = [], max_length = 20):\n",
    "        \"\"\"Sample a random sentence (list of words) from the language model.\n",
    "\n",
    "        Samples words till either EOS symbol is sampled or max_length is reached.\n",
    "        Does not make any assumptions about the length of the context.\n",
    "        \"\"\"\n",
    "        i = 0\n",
    "        sent = prefix\n",
    "        word = self.sample_next(sent, False)\n",
    "        while i <= max_length and word != \"_LINESPACE\":\n",
    "            sent.append(word)\n",
    "            word = self.sample_next(sent)\n",
    "            i += 1\n",
    "        return sent\n",
    "\n",
    "    def sample_next(self, prev, incl_eos = True):\n",
    "        \"\"\"Samples a single word from context.\n",
    "\n",
    "        Can be useful to debug the model, for example if you have a bigram model,\n",
    "        and know the probability of X-Y should be really high, you can run\n",
    "        sample_next([Y]) to see how often X get generated.\n",
    "\n",
    "        incl_eos determines whether the space of words should include EOS or not.\n",
    "        \"\"\"\n",
    "        wps = []\n",
    "        tot = -np.inf # this is the log (total mass)\n",
    "        for w in self.lm.vocab():\n",
    "            if not incl_eos and w == \"_LINESPACE\":\n",
    "                continue\n",
    "                \n",
    "            lp = self.lm.cond_logprob(w, prev)\n",
    "            #wps.append([w, lp/self.temp])\n",
    "            wps.append([w, lp])\n",
    "            tot = np.logaddexp2(lp, tot)\n",
    "        p = self.rnd.random()\n",
    "        word = self.rnd.choice(wps)[0]\n",
    "        s = -np.inf # running mass\n",
    "        for w,lp in wps:\n",
    "            s = np.logaddexp2(s, lp)\n",
    "            if p < pow(2, s-tot):\n",
    "                word = w\n",
    "                break\n",
    "        return word"
   ]
  },
  {
   "cell_type": "code",
   "execution_count": 7,
   "metadata": {
    "collapsed": true
   },
   "outputs": [],
   "source": [
    "def textToTokens(text):\n",
    "    \"\"\"Converts input string to a corpus of tokenized sentences.\n",
    "\n",
    "    Assumes that the sentences are divided by newlines (but will ignore empty sentences).\n",
    "    You can use this to try out your own datasets, but is not needed for reading the homework data.\n",
    "    \"\"\"\n",
    "    corpus = []\n",
    "    sents = text.split(\"\\n\")\n",
    "    from sklearn.feature_extraction.text import CountVectorizer\n",
    "    count_vect = CountVectorizer()\n",
    "    count_vect.fit(sents)\n",
    "    tokenizer = count_vect.build_tokenizer()\n",
    "    for s in sents:\n",
    "        toks = tokenizer(s)\n",
    "        if len(toks) > 0:\n",
    "            corpus.append(toks)\n",
    "    return corpus\n",
    "\n",
    "def file_splitter(filename, seed = 0, train_prop = 0.7, dev_prop = 0.15,\n",
    "    test_prop = 0.15):\n",
    "    \"\"\"Splits the lines of a file into 3 output files.\"\"\"\n",
    "    import random\n",
    "    rnd = random.Random(seed)\n",
    "    basename = filename[:-4]\n",
    "    train_file = open(basename + \".train.txt\", \"w\")\n",
    "    test_file = open(basename + \".test.txt\", \"w\")\n",
    "    dev_file = open(basename + \".dev.txt\", \"w\")\n",
    "    with open(filename, 'r') as f:\n",
    "        for l in f.readlines():\n",
    "            p = rnd.random()\n",
    "            if p < train_prop:\n",
    "                train_file.write(l)\n",
    "            elif p < train_prop + dev_prop:\n",
    "                dev_file.write(l)\n",
    "            else:\n",
    "                test_file.write(l)\n",
    "    train_file.close()\n",
    "    test_file.close()\n",
    "    dev_file.close()\n",
    "\n",
    "def read_texts(tarfname, dname):\n",
    "    \"\"\"Read the data from the homework data file.\n",
    "\n",
    "    Given the location of the data archive file and the name of the\n",
    "    dataset (one of brown, reuters, or gutenberg), this returns a\n",
    "    data object containing train, test, and dev data. Each is a list\n",
    "    of sentences, where each sentence is a sequence of tokens.\n",
    "    \"\"\"\n",
    "    import tarfile\n",
    "    tar = tarfile.open(tarfname, \"r:gz\", errors = 'replace')\n",
    "    train_mem = tar.getmember(dname + \".train.txt\")\n",
    "    train_txt = unicode(tar.extractfile(train_mem).read(), errors='replace')\n",
    "    test_mem = tar.getmember(dname + \".test.txt\")\n",
    "    test_txt = unicode(tar.extractfile(test_mem).read(), errors='replace')\n",
    "    dev_mem = tar.getmember(dname + \".dev.txt\")\n",
    "    dev_txt = unicode(tar.extractfile(dev_mem).read(), errors='replace')\n",
    "\n",
    "    from sklearn.feature_extraction.text import CountVectorizer\n",
    "    count_vect = CountVectorizer()\n",
    "    count_vect.fit(train_txt.split(\"\\n\"))\n",
    "    tokenizer = count_vect.build_tokenizer()\n",
    "    class Data: pass\n",
    "    data = Data()\n",
    "    data.train = []\n",
    "    for s in train_txt.split(\"\\n\"):\n",
    "        toks = tokenizer(s)\n",
    "        if len(toks) > 0:\n",
    "            data.train.append(toks)\n",
    "    data.test = []\n",
    "    for s in test_txt.split(\"\\n\"):\n",
    "        toks = tokenizer(s)\n",
    "        if len(toks) > 0:\n",
    "            data.test.append(toks)\n",
    "    data.dev = []\n",
    "    for s in dev_txt.split(\"\\n\"):\n",
    "        toks = tokenizer(s)\n",
    "        if len(toks) > 0:\n",
    "            data.dev.append(toks)\n",
    "    print(dname,\" read.\", \"train:\", len(data.train), \"dev:\", len(data.dev), \"test:\", len(data.test))\n",
    "    return data\n",
    "\n",
    "def learn_unigram(data):\n",
    "    \"\"\"Learns a unigram model from data.train.\n",
    "\n",
    "    It also evaluates the model on data.dev and data.test, along with generating\n",
    "    some sample sentences from the model.\n",
    "    \"\"\"\n",
    "    unigram = Unigram()\n",
    "    unigram.fit_corpus(data.train)\n",
    "    print(\"vocab:\", len(unigram.vocab()))\n",
    "    # evaluate on train, test, and dev\n",
    "#     print(\"train:\", unigram.perplexity(data.train))\n",
    "#     print(\"dev  :\", unigram.perplexity(data.dev))\n",
    "#     print(\"test :\", unigram.perplexity(data.test))\n",
    "#     sampler = Sampler(unigram)\n",
    "#     print(\"sample: \", \" \".join(str(x) for x in sampler.sample_sentence([])))\n",
    "#     print(\"sample: \", \" \".join(str(x) for x in sampler.sample_sentence([])))\n",
    "#     print(\"sample: \", \" \".join(str(x) for x in sampler.sample_sentence([])))\n",
    "    return unigram\n",
    "\n",
    "def print_table(table, row_names, col_names, latex_file = None):\n",
    "    \"\"\"Pretty prints the table given the table, and row and col names.\n",
    "\n",
    "    If a latex_file is provided (and tabulate is installed), it also writes a\n",
    "    file containing the LaTeX source of the table (which you can \\input into your report)\n",
    "    \"\"\"\n",
    "    try:\n",
    "        from tabulate import tabulate\n",
    "        rows = map(lambda r,t: [r] + t, row_names,table.tolist())\n",
    "        print(tabulate(rows, headers = [\"\"] + col_names))\n",
    "        if latex_file is not None:\n",
    "            latex_str = tabulate(rows, headers = [\"\"] + col_names, tablefmt=\"latex\")\n",
    "            with open(latex_file, 'w') as f:\n",
    "                f.write(latex_str)\n",
    "                f.close()\n",
    "    except ImportError as e:\n",
    "        row_format =\"{:>15} \" * (len(col_names) + 1)\n",
    "        print(row_format.format(\"\", *col_names))\n",
    "        for row_name, row in zip(row_names, table):\n",
    "            print(row_format.format(row_name, *row))"
   ]
  },
  {
   "cell_type": "code",
   "execution_count": 8,
   "metadata": {},
   "outputs": [
    {
     "name": "stdout",
     "output_type": "stream",
     "text": [
      "-----------------------\n",
      "brown\n",
      "('brown', ' read.', 'train:', 39802, 'dev:', 8437, 'test:', 8533)\n",
      "-----------------------\n",
      "reuters\n",
      "('reuters', ' read.', 'train:', 38183, 'dev:', 8083, 'test:', 8199)\n",
      "-----------------------\n",
      "gutenberg\n",
      "('gutenberg', ' read.', 'train:', 68767, 'dev:', 14667, 'test:', 14861)\n"
     ]
    }
   ],
   "source": [
    "dnames = [\"brown\", \"reuters\", \"gutenberg\"]\n",
    "datas = []\n",
    "# Learn the models for each of the domains, and evaluate it\n",
    "for dname in dnames:\n",
    "    print(\"-----------------------\")\n",
    "    print(dname)\n",
    "    data = read_texts(\"/Users/adityajoshi/UCI/Stats NLP/Language modeling/hw2.gz\", dname)\n",
    "    datas.append(data)"
   ]
  },
  {
   "cell_type": "code",
   "execution_count": 9,
   "metadata": {},
   "outputs": [
    {
     "name": "stdout",
     "output_type": "stream",
     "text": [
      "{'Madam': -2.807354922057604, '_LINESPACE': -2.807354922057604, 'I': -2.807354922057604, 'am': -2.807354922057604, 'only': -2.807354922057604, 'adam': -2.807354922057604, 'your': -2.807354922057604}\n",
      "(0, ':', 'am Madam am your I Madam am adam I your am your adam adam your Madam only your adam am')\n",
      "(1, ':', 'Madam am I only only am only adam I Madam only am')\n",
      "(2, ':', 'only adam I am I only Madam adam only')\n",
      "(3, ':', 'only am I am your adam am adam')\n",
      "(4, ':', 'your adam')\n",
      "(5, ':', 'I I your your your adam am only only your am your adam only am Madam adam your your only am')\n",
      "(6, ':', 'I am adam')\n",
      "(7, ':', 'only adam')\n",
      "(8, ':', 'your I your your only am am your only Madam adam I only only Madam adam am I only am')\n",
      "(9, ':', 'adam am I')\n"
     ]
    }
   ],
   "source": [
    "unigram = Unigram()\n",
    "corpus = [\n",
    "    [ \"Madam\", \"I\", \"am\", \"your\", \"only\", \"adam\" ]\n",
    "]\n",
    "unigram.fit_corpus(corpus)\n",
    "print(unigram.model)\n",
    "sampler = Sampler(unigram)\n",
    "for i in xrange(10):\n",
    "    print(i, \":\", \" \".join(str(x) for x in sampler.sample_sentence([])))"
   ]
  },
  {
   "cell_type": "code",
   "execution_count": 10,
   "metadata": {},
   "outputs": [
    {
     "name": "stdout",
     "output_type": "stream",
     "text": [
      "-----------------------\n",
      "brown\n",
      "('vocab:', 41746)\n",
      "('sample: ', 'autumn in')\n",
      "-----------------------\n",
      "reuters\n",
      "('vocab:', 35989)\n",
      "('sample: ', 'missile 000 sale said Garcia three and')\n",
      "-----------------------\n",
      "gutenberg\n",
      "('vocab:', 43736)\n",
      "('sample: ', 'is soul what one Christ from And the the Confederate')\n"
     ]
    }
   ],
   "source": [
    "dnames = [\"brown\", \"reuters\", \"gutenberg\"]\n",
    "unigram_models = []\n",
    "i = 0\n",
    "# Learn the models for each of the domains, and evaluate it\n",
    "for dname in dnames:\n",
    "    print(\"-----------------------\")\n",
    "    print(dname)\n",
    "    unigram_model = learn_unigram(datas[i])\n",
    "    unigram_models.append(unigram_model)\n",
    "    sampler = Sampler(unigram_model)\n",
    "    print(\"sample: \", \" \".join(str(x) for x in sampler.sample_sentence([])))\n",
    "    i=i+1"
   ]
  },
  {
   "cell_type": "code",
   "execution_count": 11,
   "metadata": {
    "collapsed": true
   },
   "outputs": [],
   "source": [
    "unigram_train = np.zeros((3,))\n",
    "unigram_dev = np.zeros((3,))\n",
    "unigram_test = np.zeros((3,))\n",
    "\n",
    "for i,dname in enumerate(dnames):\n",
    "    unigram_train[i] = unigram_models[i].perplexity(datas[i].train)\n",
    "    unigram_dev[i] = unigram_models[i].perplexity(datas[i].dev)\n",
    "    unigram_test[i] = unigram_models[i].perplexity(datas[i].test)"
   ]
  },
  {
   "cell_type": "code",
   "execution_count": 12,
   "metadata": {},
   "outputs": [
    {
     "name": "stdout",
     "output_type": "stream",
     "text": [
      "('vocab:', 43736)\n",
      "('train:', 981.368830109398)\n",
      "('dev  :', 1012.4294581112321)\n",
      "('test :', 990.082497294399)\n",
      "('sample: ', 'what from MacIan not his lurchingly interest hand Winter delight places good')\n"
     ]
    }
   ],
   "source": [
    "unigram = Unigram()\n",
    "unigram.fit_corpus(data.train)\n",
    "print(\"vocab:\", len(unigram.vocab()))\n",
    "# evaluate on train, test, and dev\n",
    "print(\"train:\", unigram.perplexity(data.train))\n",
    "print(\"dev  :\", unigram.perplexity(data.dev))\n",
    "print(\"test :\", unigram.perplexity(data.test))\n",
    "sampler = Sampler(unigram)\n",
    "print(\"sample: \", \" \".join(str(x) for x in sampler.sample_sentence([])))"
   ]
  },
  {
   "cell_type": "code",
   "execution_count": 17,
   "metadata": {},
   "outputs": [
    {
     "name": "stdout",
     "output_type": "stream",
     "text": [
      "[ 1604.19822047  1501.45588743   990.08249729]\n"
     ]
    }
   ],
   "source": [
    "print(unigram_test)"
   ]
  },
  {
   "cell_type": "code",
   "execution_count": 13,
   "metadata": {},
   "outputs": [
    {
     "name": "stdout",
     "output_type": "stream",
     "text": [
      "-------------------------------\n",
      "x train\n",
      "                          brown         reuters       gutenberg \n",
      "          brown   1513.80180085   6742.25382469   1756.18069301 \n",
      "        reuters   3812.15474159   1466.87214857   4876.45027295 \n",
      "      gutenberg   2619.84362239   12384.1285525   981.368830109 \n",
      "-------------------------------\n",
      "x dev\n",
      "                          brown         reuters       gutenberg \n",
      "          brown   1589.38682257   6737.79153562   1757.90496297 \n",
      "        reuters   3814.58214981   1499.69739143   4906.34381917 \n",
      "      gutenberg   2606.87268467   12336.9439412   1012.42945811 \n",
      "-------------------------------\n",
      "x test\n",
      "                          brown         reuters       gutenberg \n",
      "          brown   1604.19822047   6854.96020247   1752.54867423 \n",
      "        reuters    3872.4278122   1501.45588743   4860.03120686 \n",
      "      gutenberg   2628.33853321   12539.5181242   990.082497294 \n"
     ]
    }
   ],
   "source": [
    "# compute the perplexity of all pairs\n",
    "n = len(dnames)\n",
    "perp_dev = np.zeros((n,n))\n",
    "perp_test = np.zeros((n,n))\n",
    "perp_train = np.zeros((n,n))\n",
    "for i in xrange(n):\n",
    "    for j in xrange(n):\n",
    "        perp_dev[i][j] = unigram_models[i].perplexity(datas[j].dev)\n",
    "        perp_test[i][j] = unigram_models[i].perplexity(datas[j].test)\n",
    "        perp_train[i][j] = unigram_models[i].perplexity(datas[j].train)\n",
    "\n",
    "print(\"-------------------------------\")\n",
    "print(\"x train\")\n",
    "print_table(perp_train, dnames, dnames, \"table-train.tex\")\n",
    "print(\"-------------------------------\")\n",
    "print(\"x dev\")\n",
    "print_table(perp_dev, dnames, dnames, \"table-dev.tex\")\n",
    "print(\"-------------------------------\")\n",
    "print(\"x test\")\n",
    "print_table(perp_test, dnames, dnames, \"table-test.tex\")"
   ]
  },
  {
   "cell_type": "code",
   "execution_count": 14,
   "metadata": {},
   "outputs": [
    {
     "name": "stdout",
     "output_type": "stream",
     "text": [
      "[ 1513.80180085  1466.87214857   981.36883011]\n",
      "[ 1589.38682257  1499.69739143  1012.42945811]\n",
      "[ 1604.19822047  1501.45588743   990.08249729]\n"
     ]
    },
    {
     "data": {
      "text/plain": [
       "<matplotlib.legend.Legend at 0x1a1f3c5210>"
      ]
     },
     "execution_count": 14,
     "metadata": {},
     "output_type": "execute_result"
    },
    {
     "data": {
      "image/png": "[encoded data removed]",
      "text/plain": [
       "<matplotlib.figure.Figure at 0x10c373f10>"
      ]
     },
     "metadata": {},
     "output_type": "display_data"
    }
   ],
   "source": [
    "print(unigram_train)\n",
    "print(unigram_dev)\n",
    "print(unigram_test)\n",
    "fig,ax = plt.subplots(1,1)\n",
    "plt.title('Unigram model with backoff smoothing',fontsize=14)\n",
    "plt.ylabel('Perplexity',fontsize=14)\n",
    "ax.set_xticks([0,1,2])\n",
    "ax.set_xticklabels(['Brown','Reuters','Gutenberg'],fontsize=13)\n",
    "line1, = plt.plot(range(3),unigram_train,'ys-')\n",
    "line2, = plt.plot(range(3),unigram_dev,'bs-')\n",
    "line3, = plt.plot(range(3),unigram_test,'rs-')\n",
    "plt.legend([line1,line2,line3],[\"Training\",\"Dev\",\"Test\"])"
   ]
  },
  {
   "cell_type": "code",
   "execution_count": 20,
   "metadata": {
    "collapsed": true
   },
   "outputs": [],
   "source": [
    "### Bigram model ###"
   ]
  },
  {
   "cell_type": "code",
   "execution_count": 15,
   "metadata": {},
   "outputs": [
    {
     "name": "stdout",
     "output_type": "stream",
     "text": [
      "{'on': 1.0, '_LINESPACE': 2.0, ('she', 'sells'): 1.0, 'shells': 1.0, ('on', 'the'): 1.0, ('sells', 'sea'): 1.0, ('_LINESPACE', 'she'): 1.0, 'shore': 1.0, ('sea', 'shore'): 1.0, ('sea', 'shells'): 1.0, 'she': 1.0, 'sea': 2.0, ('the', 'sea'): 1.0, ('shore', '_LINESPACE'): 1.0, 'sells': 1.0, 'the': 1.0, ('shells', 'on'): 1.0}\n"
     ]
    }
   ],
   "source": [
    "bigram = Bigram()\n",
    "sentence = [\"she\",\"sells\",\"sea\",\"shells\",\"on\", \"the\", \"sea\", \"shore\"]\n",
    "bigram.fit_sentence(sentence)\n",
    "print(bigram.model)"
   ]
  },
  {
   "cell_type": "code",
   "execution_count": 16,
   "metadata": {},
   "outputs": [
    {
     "name": "stdout",
     "output_type": "stream",
     "text": [
      "('sample: ', 'she sells on shore')\n"
     ]
    }
   ],
   "source": [
    "sampler = Sampler(bigram)\n",
    "print(\"sample: \", \" \".join(str(x) for x in sampler.sample_sentence(['_LINESPACE'])[1:]))"
   ]
  },
  {
   "cell_type": "code",
   "execution_count": 17,
   "metadata": {},
   "outputs": [
    {
     "name": "stdout",
     "output_type": "stream",
     "text": [
      "('vocab:', 43736)\n",
      "('train:', 94.77787713305848)\n",
      "('dev  :', 119.84092746968565)\n",
      "('test :', 118.0666500012296)\n",
      "('sample: ', 'servants me charioteer Rapiers no thou shall flesh know')\n"
     ]
    }
   ],
   "source": [
    "bigram = Bigram()\n",
    "bigram.fit_corpus(datas[2].train)\n",
    "print(\"vocab:\", len(bigram.vocab()))\n",
    "# evaluate on train, test, and dev\n",
    "print(\"train:\", bigram.perplexity(datas[2].train))\n",
    "print(\"dev  :\", bigram.perplexity(datas[2].dev))\n",
    "print(\"test :\", bigram.perplexity(datas[2].test))\n",
    "sampler = Sampler(bigram)\n",
    "print(\"sample: \", \" \".join(str(x) for x in sampler.sample_sentence(['_LINESPACE'])[1:]))"
   ]
  },
  {
   "cell_type": "code",
   "execution_count": 18,
   "metadata": {
    "collapsed": true
   },
   "outputs": [],
   "source": [
    "def learn_bigram(data):\n",
    "    \"\"\"Learns a bigram model from data.train.\n",
    "\n",
    "    It also evaluates the model on data.dev and data.test, along with generating\n",
    "    some sample sentences from the model.\n",
    "    \"\"\"\n",
    "    bigram = Bigram()\n",
    "    bigram.fit_corpus(data.train)\n",
    "    print(\"vocab:\", len(bigram.vocab()))\n",
    "    return bigram"
   ]
  },
  {
   "cell_type": "code",
   "execution_count": 19,
   "metadata": {},
   "outputs": [
    {
     "name": "stdout",
     "output_type": "stream",
     "text": [
      "-----------------------\n",
      "brown\n",
      "('vocab:', 41746)\n",
      "-----------------------\n",
      "reuters\n",
      "('vocab:', 35989)\n",
      "-----------------------\n",
      "gutenberg\n",
      "('vocab:', 43736)\n"
     ]
    }
   ],
   "source": [
    "dnames = [\"brown\", \"reuters\", \"gutenberg\"]\n",
    "bigram_backoff_models = []\n",
    "i=0\n",
    "# Learn the models for each of the domains, and evaluate it\n",
    "for dname in dnames:\n",
    "    print(\"-----------------------\")\n",
    "    print(dname)\n",
    "    bigram_backoff_model = learn_bigram(datas[i])\n",
    "    bigram_backoff_models.append(bigram_backoff_model)\n",
    "    i = i+1"
   ]
  },
  {
   "cell_type": "code",
   "execution_count": 20,
   "metadata": {},
   "outputs": [
    {
     "name": "stdout",
     "output_type": "stream",
     "text": [
      "----------------\n",
      "----------------\n",
      "----------------\n"
     ]
    }
   ],
   "source": [
    "bigram_train = np.zeros((3,))\n",
    "bigram_dev = np.zeros((3,))\n",
    "bigram_test = np.zeros((3,))\n",
    "\n",
    "for i,dname in enumerate(dnames):\n",
    "    print(\"----------------\")\n",
    "    bigram_train[i] = bigram_backoff_models[i].perplexity(datas[i].train)\n",
    "    bigram_dev[i] = bigram_backoff_models[i].perplexity(datas[i].dev)\n",
    "    bigram_test[i] = bigram_backoff_models[i].perplexity(datas[i].test)"
   ]
  },
  {
   "cell_type": "code",
   "execution_count": 21,
   "metadata": {},
   "outputs": [
    {
     "name": "stdout",
     "output_type": "stream",
     "text": [
      "[ 77.47861926  52.59184978  94.77787713]\n",
      "[ 171.95251754   81.96634616  119.84092747]\n",
      "[ 174.01928626   80.73522048  118.06665   ]\n"
     ]
    },
    {
     "data": {
      "text/plain": [
       "<matplotlib.legend.Legend at 0x1a36ef4390>"
      ]
     },
     "execution_count": 21,
     "metadata": {},
     "output_type": "execute_result"
    },
    {
     "data": {
      "image/png": "[encoded data removed]",
      "text/plain": [
       "<matplotlib.figure.Figure at 0x1a20e96550>"
      ]
     },
     "metadata": {},
     "output_type": "display_data"
    }
   ],
   "source": [
    "print(bigram_train)\n",
    "print(bigram_dev)\n",
    "print(bigram_test)\n",
    "fig,ax = plt.subplots(1,1)\n",
    "plt.title('Bigram model with backoff smoothing',fontsize=14)\n",
    "plt.ylabel('Perplexity',fontsize=14)\n",
    "ax.set_xticks([0,1,2])\n",
    "ax.set_xticklabels(['Brown','Reuters','Gutenberg'],fontsize=13)\n",
    "line1, = plt.plot(range(3),bigram_train,'ys-')\n",
    "line2, = plt.plot(range(3),bigram_dev,'bs-')\n",
    "line3, = plt.plot(range(3),bigram_test,'rs-')\n",
    "plt.legend([line1,line2,line3],[\"Training\",\"Dev\",\"Test\"])"
   ]
  },
  {
   "cell_type": "code",
   "execution_count": 22,
   "metadata": {},
   "outputs": [
    {
     "name": "stdout",
     "output_type": "stream",
     "text": [
      "-------------------------------\n",
      "x train\n",
      "                          brown         reuters       gutenberg \n",
      "          brown   77.4786192595   911.410694812   252.698501234 \n",
      "        reuters   369.432941764   52.5918497805    545.65012721 \n",
      "      gutenberg   295.780672256   1445.33258975   94.7778771331 \n",
      "-------------------------------\n",
      "x dev\n",
      "                          brown         reuters       gutenberg \n",
      "          brown   171.952517537   919.521286047   252.127189673 \n",
      "        reuters   372.223922797   81.9663461573   544.154337362 \n",
      "      gutenberg   295.436583986   1443.51449461    119.84092747 \n",
      "-------------------------------\n",
      "x test\n",
      "                          brown         reuters       gutenberg \n",
      "          brown    174.01928626   930.680987743   252.801889535 \n",
      "        reuters   375.970996359   80.7352204811   547.301906542 \n",
      "      gutenberg   296.737287763   1467.21159694   118.066650001 \n"
     ]
    }
   ],
   "source": [
    "# compute the perplexity of all pairs\n",
    "n = len(dnames)\n",
    "perp_dev = np.zeros((n,n))\n",
    "perp_test = np.zeros((n,n))\n",
    "perp_train = np.zeros((n,n))\n",
    "for i in xrange(n):\n",
    "    for j in xrange(n):\n",
    "        perp_dev[i][j] = bigram_backoff_models[i].perplexity(datas[j].dev)\n",
    "        perp_test[i][j] = bigram_backoff_models[i].perplexity(datas[j].test)\n",
    "        perp_train[i][j] = bigram_backoff_models[i].perplexity(datas[j].train)\n",
    "        \n",
    "print(\"-------------------------------\")\n",
    "print(\"x train\")\n",
    "print_table(perp_train, dnames, dnames, \"table-train.tex\")\n",
    "print(\"-------------------------------\")\n",
    "print(\"x dev\")\n",
    "print_table(perp_dev, dnames, dnames, \"table-dev.tex\")\n",
    "print(\"-------------------------------\")\n",
    "print(\"x test\")\n",
    "print_table(perp_test, dnames, dnames, \"table-test.tex\")"
   ]
  },
  {
   "cell_type": "code",
   "execution_count": 34,
   "metadata": {
    "collapsed": true
   },
   "outputs": [],
   "source": [
    "### Trigram models ####"
   ]
  },
  {
   "cell_type": "code",
   "execution_count": 35,
   "metadata": {},
   "outputs": [
    {
     "name": "stdout",
     "output_type": "stream",
     "text": [
      "{('am', 'your', 'only'): 1.0, 'Madam': 1.0, '_LINESPACE': 2.0, ('your', 'only'): 1.0, ('only', 'Adam', '_LINESPACE'): 1.0, ('I', 'am'): 1.0, 'I': 1.0, ('I', 'am', 'your'): 1.0, ('_LINESPACE', 'Madam'): 1.0, 'am': 1.0, ('Madam', 'I'): 1.0, ('Adam', '_LINESPACE'): 1.0, 'only': 1.0, ('_LINESPACE', 'Madam', 'I'): 1.0, 'Adam': 1.0, ('am', 'your'): 1.0, ('Madam', 'I', 'am'): 1.0, ('only', 'Adam'): 1.0, ('your', 'only', 'Adam'): 1.0, 'your': 1.0}\n"
     ]
    }
   ],
   "source": [
    "trigram = Trigram()\n",
    "sentence = [\"Madam\",\"I\",\"am\",\"your\",\"only\", \"Adam\"]\n",
    "trigram.fit_sentence(sentence)\n",
    "print(trigram.model)"
   ]
  },
  {
   "cell_type": "code",
   "execution_count": 36,
   "metadata": {},
   "outputs": [
    {
     "name": "stdout",
     "output_type": "stream",
     "text": [
      "('vocab:', 43736)\n",
      "('train:', 9.253587950170838)\n",
      "('dev  :', 79.40958352863989)\n",
      "('test :', 77.45264680045435)\n",
      "('sample: ', 'ingenuous')\n"
     ]
    }
   ],
   "source": [
    "trigram = Trigram()\n",
    "trigram.fit_corpus(data.train)\n",
    "print(\"vocab:\", len(trigram.vocab()))\n",
    "# evaluate on train, test, and dev\n",
    "print(\"train:\", trigram.perplexity(data.train))\n",
    "print(\"dev  :\", trigram.perplexity(data.dev))\n",
    "print(\"test :\", trigram.perplexity(data.test))\n",
    "sampler = Sampler(trigram)\n",
    "print(\"sample: \", \" \".join(str(x) for x in sampler.sample_sentence(['_LINESPACE'])[1:]))"
   ]
  },
  {
   "cell_type": "code",
   "execution_count": 37,
   "metadata": {
    "collapsed": true
   },
   "outputs": [],
   "source": [
    "def learn_trigram(data):\n",
    "    \"\"\"Learns a trigram model from data.train.\n",
    "\n",
    "    It also evaluates the model on data.dev and data.test, along with generating\n",
    "    some sample sentences from the model.\n",
    "    \"\"\"\n",
    "    trigram = Trigram()\n",
    "    trigram.fit_corpus(data.train)\n",
    "    print(\"vocab:\", len(trigram.vocab()))\n",
    "    return trigram"
   ]
  },
  {
   "cell_type": "code",
   "execution_count": 38,
   "metadata": {},
   "outputs": [
    {
     "name": "stdout",
     "output_type": "stream",
     "text": [
      "-----------------------\n",
      "brown\n",
      "('vocab:', 41746)\n",
      "-----------------------\n",
      "reuters\n",
      "('vocab:', 35989)\n",
      "-----------------------\n",
      "gutenberg\n",
      "('vocab:', 43736)\n"
     ]
    }
   ],
   "source": [
    "dnames = [\"brown\", \"reuters\", \"gutenberg\"]\n",
    "trigram_backoff_models = []\n",
    "i=0\n",
    "# Learn the models for each of the domains, and evaluate it\n",
    "for dname in dnames:\n",
    "    print(\"-----------------------\")\n",
    "    print(dname)\n",
    "    trigram_backoff_model = learn_trigram(datas[i])\n",
    "    trigram_backoff_models.append(trigram_backoff_model)\n",
    "    i = i+1"
   ]
  },
  {
   "cell_type": "code",
   "execution_count": 39,
   "metadata": {},
   "outputs": [
    {
     "name": "stdout",
     "output_type": "stream",
     "text": [
      "----------------\n",
      "----------------\n",
      "----------------\n"
     ]
    }
   ],
   "source": [
    "trigram_train = np.zeros((3,))\n",
    "trigram_dev = np.zeros((3,))\n",
    "trigram_test = np.zeros((3,))\n",
    "\n",
    "for i,dname in enumerate(dnames):\n",
    "    print(\"----------------\")\n",
    "    trigram_train[i] = trigram_backoff_models[i].perplexity(datas[i].train)\n",
    "    trigram_dev[i] = trigram_backoff_models[i].perplexity(datas[i].dev)\n",
    "    trigram_test[i] = trigram_backoff_models[i].perplexity(datas[i].test)"
   ]
  },
  {
   "cell_type": "code",
   "execution_count": 40,
   "metadata": {},
   "outputs": [
    {
     "name": "stdout",
     "output_type": "stream",
     "text": [
      "[ 5.94730155  6.25126112  9.25358795]\n",
      "[ 137.1060932    45.4309234    79.40958353]\n",
      "[ 139.157856     44.83317647   77.4526468 ]\n"
     ]
    },
    {
     "data": {
      "text/plain": [
       "<matplotlib.legend.Legend at 0x1a3815bf90>"
      ]
     },
     "execution_count": 40,
     "metadata": {},
     "output_type": "execute_result"
    },
    {
     "data": {
      "image/png": "[encoded data removed]",
      "text/plain": [
       "<matplotlib.figure.Figure at 0x1a66362f10>"
      ]
     },
     "metadata": {},
     "output_type": "display_data"
    }
   ],
   "source": [
    "print(trigram_train)\n",
    "print(trigram_dev)\n",
    "print(trigram_test)\n",
    "fig,ax = plt.subplots(1,1)\n",
    "plt.title('Trigram model with backoff smoothing',fontsize=14)\n",
    "plt.ylabel('Perplexity',fontsize=14)\n",
    "ax.set_xticks([0,1,2])\n",
    "ax.set_xticklabels(['Brown','Reuters','Gutenberg'],fontsize=13)\n",
    "line1, = plt.plot(range(3),trigram_train,'ys-')\n",
    "line2, = plt.plot(range(3),trigram_dev,'bs-')\n",
    "line3, = plt.plot(range(3),trigram_test,'rs-')\n",
    "plt.legend([line1,line2,line3],[\"Training\",\"Dev\",\"Test\"])"
   ]
  },
  {
   "cell_type": "code",
   "execution_count": 41,
   "metadata": {},
   "outputs": [
    {
     "name": "stdout",
     "output_type": "stream",
     "text": [
      "-------------------------------\n",
      "x train\n",
      "                          brown         reuters       gutenberg \n",
      "          brown   5.94730155182   834.820896732   222.868837824 \n",
      "        reuters   335.390109914   6.25126111739   516.736207344 \n",
      "      gutenberg   259.605806368   1379.09472869   9.25358795017 \n",
      "-------------------------------\n",
      "x dev\n",
      "                          brown         reuters       gutenberg \n",
      "          brown   137.106093202   842.667414283   222.315106611 \n",
      "        reuters   338.946480781   45.4309233993   514.713160505 \n",
      "      gutenberg   259.438023774   1378.70753454   79.4095835286 \n",
      "-------------------------------\n",
      "x test\n",
      "                          brown         reuters       gutenberg \n",
      "          brown   139.157855998   854.637794359   222.389002612 \n",
      "        reuters    341.73924579   44.8331764745   518.882903401 \n",
      "      gutenberg   260.915481412   1402.60159855   77.4526468005 \n"
     ]
    }
   ],
   "source": [
    "# compute the perplexity of all pairs\n",
    "n = len(dnames)\n",
    "perp_dev = np.zeros((n,n))\n",
    "perp_test = np.zeros((n,n))\n",
    "perp_train = np.zeros((n,n))\n",
    "for i in xrange(n):\n",
    "    for j in xrange(n):\n",
    "        perp_dev[i][j] = trigram_backoff_models[i].perplexity(datas[j].dev)\n",
    "        perp_test[i][j] = trigram_backoff_models[i].perplexity(datas[j].test)\n",
    "        perp_train[i][j] = trigram_backoff_models[i].perplexity(datas[j].train)\n",
    "        \n",
    "print(\"-------------------------------\")\n",
    "print(\"x train\")\n",
    "print_table(perp_train, dnames, dnames, \"table-train.tex\")\n",
    "print(\"-------------------------------\")\n",
    "print(\"x dev\")\n",
    "print_table(perp_dev, dnames, dnames, \"table-dev.tex\")\n",
    "print(\"-------------------------------\")\n",
    "print(\"x test\")\n",
    "print_table(perp_test, dnames, dnames, \"table-test.tex\")"
   ]
  },
  {
   "cell_type": "code",
   "execution_count": 25,
   "metadata": {
    "collapsed": true
   },
   "outputs": [],
   "source": [
    "#trigram model with laplace smoothing \n",
    "class Trigram_Laplace(LangModel):\n",
    "    def __init__(self, l = 1):\n",
    "        self.model = dict()\n",
    "        self.vocabulary = dict()\n",
    "        self.laplace = l\n",
    "        \n",
    "    def inc_word(self, w):\n",
    "        if w in self.model:\n",
    "            self.model[w] += 1.0\n",
    "        else:\n",
    "            self.model[w] = 1.0\n",
    "\n",
    "    def fit_sentence(self, sentence):\n",
    "        s = ['_LINESPACE'] + sentence + ['_LINESPACE']\n",
    "        for w in s:\n",
    "            self.inc_word(w)\n",
    "            self.vocabulary[w] = 1\n",
    "        \n",
    "        s = ['_LINESPACE'] + s\n",
    "        for i in range(2,4):\n",
    "            for j in range(len(s)-i+1):\n",
    "                self.inc_word(tuple(s[j:j+i]))\n",
    "    \n",
    "    def entropy(self, corpus):\n",
    "        num_words = 0.0\n",
    "        sum_logprob = 0.0\n",
    "        for s in corpus:\n",
    "            num_words += len(s) + 1 # for Linespace\n",
    "            sum_logprob += self.logprob_sentence(['_LINESPACE','_LINESPACE']+s)\n",
    "        return -(1.0/num_words)*(sum_logprob)\n",
    "\n",
    "    def logprob_sentence(self, sentence):\n",
    "        p = 0.0\n",
    "        for i in range(2,len(sentence)):\n",
    "            p += self.cond_logprob(sentence[i], sentence[:i])\n",
    "        p += self.cond_logprob('_LINESPACE', sentence)\n",
    "        return p\n",
    "    \n",
    "    def cond_logprob(self, word, previous):\n",
    "        den = (self.laplace)*len(self.vocabulary)\n",
    "        if (len(previous)>=2 and tuple(previous[-2:]+[word]) in self.model):\n",
    "            return log((self.model[tuple(previous[-2:]+[word])]+self.laplace)/(self.model[tuple(previous[-2:])] + den),2 )\n",
    "        elif (len(previous)>=2 and tuple(previous[-2:]) in self.model):\n",
    "            return log(self.laplace/(self.model[tuple(previous[-2:])] + den),2)\n",
    "        else:\n",
    "            return log(1,2) - log(len(self.vocabulary),2)\n",
    "            \n",
    "    def vocab(self):\n",
    "        return self.vocabulary.keys()"
   ]
  },
  {
   "cell_type": "code",
   "execution_count": 26,
   "metadata": {},
   "outputs": [
    {
     "name": "stdout",
     "output_type": "stream",
     "text": [
      "{'Madam': 1.0, '_LINESPACE': 2.0, ('Madam', 'I', 'am'): 1.0, ('_LINESPACE', '_LINESPACE'): 1.0, ('your', 'Adam', '_LINESPACE'): 1.0, ('I', 'am'): 1.0, 'I': 1.0, ('I', 'am', 'your'): 1.0, ('_LINESPACE', 'Madam'): 1.0, 'am': 1.0, ('your', 'Adam'): 1.0, ('Adam', '_LINESPACE'): 1.0, ('_LINESPACE', '_LINESPACE', 'Madam'): 1.0, ('Madam', 'I'): 1.0, ('_LINESPACE', 'Madam', 'I'): 1.0, 'Adam': 1.0, ('am', 'your'): 1.0, 'your': 1.0, ('am', 'your', 'Adam'): 1.0}\n",
      "(0, ':', 'Madam your Adam your')\n",
      "(1, ':', 'your Adam your your Madam')\n",
      "(2, ':', 'am Adam Madam Adam Madam I Madam Adam Madam I Madam I')\n",
      "(3, ':', 'Adam your')\n",
      "(4, ':', 'am I I I Madam am your am Adam Madam Madam your am')\n",
      "(5, ':', 'am I your am Adam Madam am am your Madam I am Madam your am your Adam Adam I am')\n",
      "(6, ':', 'I Adam I am am Madam am Madam your your am')\n",
      "(7, ':', 'Madam I I Adam am Adam')\n",
      "(8, ':', 'Madam I am am Madam Adam')\n",
      "(9, ':', 'Madam Adam I am I')\n"
     ]
    }
   ],
   "source": [
    "trigram = Trigram_Laplace()\n",
    "corpus = [\n",
    "    [\"Madam\",\"I\",\"am\",\"your\", \"Adam\"]\n",
    "]\n",
    "trigram.fit_corpus(corpus)\n",
    "print(trigram.model)\n",
    "sampler = Sampler(trigram)\n",
    "for i in xrange(10):\n",
    "    print(i, \":\", \" \".join(str(x) for x in sampler.sample_sentence(['_LINESPACE', '_LINESPACE'])[2:]))"
   ]
  },
  {
   "cell_type": "code",
   "execution_count": 27,
   "metadata": {
    "collapsed": true
   },
   "outputs": [],
   "source": [
    "def learn_trigram_laplace(data, laplace=0.1):\n",
    "    \"\"\"Learns a trigram model from data.train.\n",
    "\n",
    "    It also evaluates the model on data.dev and data.test, along with generating\n",
    "    some sample sentences from the model.\n",
    "    \"\"\"\n",
    "    trigram = Trigram_Laplace(laplace)\n",
    "    print(\"l: \"+str(trigram.laplace))\n",
    "    trigram.fit_corpus(data.train)\n",
    "    print(\"vocab:\", len(trigram.vocab()))\n",
    "    return trigram"
   ]
  },
  {
   "cell_type": "code",
   "execution_count": 28,
   "metadata": {},
   "outputs": [
    {
     "name": "stdout",
     "output_type": "stream",
     "text": [
      "l: 0.0001\n",
      "('vocab:', 41746)\n",
      "l: 0.001\n",
      "('vocab:', 41746)\n",
      "l: 0.002\n",
      "('vocab:', 41746)\n",
      "l: 0.004\n",
      "('vocab:', 41746)\n",
      "l: 0.008\n",
      "('vocab:', 41746)\n",
      "l: 0.02\n",
      "('vocab:', 41746)\n",
      "l: 0.04\n",
      "('vocab:', 41746)\n",
      "l: 0.1\n",
      "('vocab:', 41746)\n",
      "l: 0.0001\n",
      "('vocab:', 35989)\n",
      "l: 0.001\n",
      "('vocab:', 35989)\n",
      "l: 0.002\n",
      "('vocab:', 35989)\n",
      "l: 0.004\n",
      "('vocab:', 35989)\n",
      "l: 0.008\n",
      "('vocab:', 35989)\n",
      "l: 0.02\n",
      "('vocab:', 35989)\n",
      "l: 0.04\n",
      "('vocab:', 35989)\n",
      "l: 0.1\n",
      "('vocab:', 35989)\n",
      "l: 0.0001\n",
      "('vocab:', 43736)\n",
      "l: 0.001\n",
      "('vocab:', 43736)\n",
      "l: 0.002\n",
      "('vocab:', 43736)\n",
      "l: 0.004\n",
      "('vocab:', 43736)\n",
      "l: 0.008\n",
      "('vocab:', 43736)\n",
      "l: 0.02\n",
      "('vocab:', 43736)\n",
      "l: 0.04\n",
      "('vocab:', 43736)\n",
      "l: 0.1\n",
      "('vocab:', 43736)\n"
     ]
    }
   ],
   "source": [
    "L = [0.0001, 0.001, 0.002, 0.004, 0.008, 0.02, 0.04, 0.1]#, 0.16, 0.32, 0.64, 1.28]\n",
    "perp_dev = np.zeros((3,len(L)))\n",
    "perp_test = np.zeros((3,len(L)))\n",
    "perp_train = np.zeros((3,len(L)))\n",
    "# Learn the models for each of the domains, and evaluate it\n",
    "for j,dname in enumerate(dnames):\n",
    "    for i,l in enumerate(L):\n",
    "        #print(i)\n",
    "        model = learn_trigram_laplace(datas[j],l)\n",
    "        perp_train[j][i] = model.perplexity(datas[j].train)\n",
    "        perp_dev[j][i] = model.perplexity(datas[j].dev)\n",
    "        perp_test[j][i] = model.perplexity(datas[j].test)"
   ]
  },
  {
   "cell_type": "code",
   "execution_count": 29,
   "metadata": {},
   "outputs": [
    {
     "data": {
      "image/png": "[encoded data removed]",
      "text/plain": [
       "<matplotlib.figure.Figure at 0x1a36f54e10>"
      ]
     },
     "metadata": {},
     "output_type": "display_data"
    },
    {
     "data": {
      "image/png": "[encoded data removed]",
      "text/plain": [
       "<matplotlib.figure.Figure at 0x1a3b503b10>"
      ]
     },
     "metadata": {},
     "output_type": "display_data"
    },
    {
     "data": {
      "image/png": "[encoded data removed]",
      "text/plain": [
       "<matplotlib.figure.Figure at 0x1a3f9077d0>"
      ]
     },
     "metadata": {},
     "output_type": "display_data"
    }
   ],
   "source": [
    "# plot training perp\n",
    "plt.ylabel('Perplexity',fontsize=14)\n",
    "plt.title('Training data')\n",
    "plt.xlabel('lambda',fontsize=14)\n",
    "line1, = plt.semilogx(L,perp_train[0],'g.-')\n",
    "line2, = plt.semilogx(L,perp_train[1],'b.-')\n",
    "line3, = plt.semilogx(L,perp_train[2],'y.-')\n",
    "plt.legend([line1,line2,line3],[\"Brown\",\"Reuters\",\"Gutenberg\"])\n",
    "plt.show()\n",
    "# plot dev perp\n",
    "plt.ylabel('Perplexity',fontsize=14)\n",
    "plt.title('Perplexity variation wrt. lambda for dev. data',fontsize=14)\n",
    "plt.xlabel('lambda',fontsize=14)\n",
    "line1, = plt.semilogx(L,perp_dev[0],'g.-')\n",
    "line2, = plt.semilogx(L,perp_dev[1],'b.-')\n",
    "line3, = plt.semilogx(L,perp_dev[2],'y.-')\n",
    "plt.legend([line1,line2,line3],[\"Brown\",\"Reuters\",\"Gutenberg\"])\n",
    "plt.show()\n",
    "# plot test perp\n",
    "plt.ylabel('Perplexity',fontsize=14)\n",
    "plt.title('Test data')\n",
    "plt.xlabel('lambda',fontsize=14)\n",
    "line1, = plt.semilogx(L,perp_test[0],'g.-')\n",
    "line2, = plt.semilogx(L,perp_test[1],'b.-')\n",
    "line3, = plt.semilogx(L,perp_test[2],'y.-')\n",
    "plt.legend([line1,line2,line3],[\"Brown\",\"Reuters\",\"Gutenberg\"])\n",
    "plt.show()"
   ]
  },
  {
   "cell_type": "code",
   "execution_count": 30,
   "metadata": {},
   "outputs": [
    {
     "name": "stdout",
     "output_type": "stream",
     "text": [
      "-----------------------\n",
      "brown\n",
      "l: 0.001\n",
      "('vocab:', 41746)\n",
      "-----------------------\n",
      "reuters\n",
      "l: 0.001\n",
      "('vocab:', 35989)\n",
      "-----------------------\n",
      "gutenberg\n",
      "l: 0.001\n",
      "('vocab:', 43736)\n"
     ]
    }
   ],
   "source": [
    "dnames = [\"brown\", \"reuters\", \"gutenberg\"]\n",
    "trigram_laplace_models = []\n",
    "i=0\n",
    "# Learn the models for each of the domains, and evaluate it\n",
    "for dname in dnames:\n",
    "    print(\"-----------------------\")\n",
    "    print(dname)\n",
    "    trigram_laplace_model = learn_trigram_laplace(datas[i],0.001)\n",
    "    trigram_laplace_models.append(trigram_laplace_model)\n",
    "    i = i+1"
   ]
  },
  {
   "cell_type": "code",
   "execution_count": 31,
   "metadata": {},
   "outputs": [
    {
     "name": "stdout",
     "output_type": "stream",
     "text": [
      "----------------\n",
      "----------------\n",
      "----------------\n"
     ]
    }
   ],
   "source": [
    "trigram_l_train = np.zeros((3,))\n",
    "trigram_l_dev = np.zeros((3,))\n",
    "trigram_l_test = np.zeros((3,))\n",
    "\n",
    "for i,dname in enumerate(dnames):\n",
    "    print(\"----------------\")\n",
    "    trigram_l_train[i] = trigram_laplace_models[i].perplexity(datas[i].train)\n",
    "    trigram_l_dev[i] = trigram_laplace_models[i].perplexity(datas[i].dev)\n",
    "    trigram_l_test[i] = trigram_laplace_models[i].perplexity(datas[i].test)"
   ]
  },
  {
   "cell_type": "code",
   "execution_count": 32,
   "metadata": {},
   "outputs": [
    {
     "name": "stdout",
     "output_type": "stream",
     "text": [
      "[ 54.34309446  34.41581736  49.90547686]\n",
      "[ 9941.33661239  1493.59384163  3284.05262515]\n",
      "[ 10108.45510306   1464.61266998   3089.735279  ]\n"
     ]
    },
    {
     "data": {
      "text/plain": [
       "<matplotlib.legend.Legend at 0x1a66107ed0>"
      ]
     },
     "execution_count": 32,
     "metadata": {},
     "output_type": "execute_result"
    },
    {
     "data": {
      "image/png": "[encoded data removed]",
      "text/plain": [
       "<matplotlib.figure.Figure at 0x1a36e872d0>"
      ]
     },
     "metadata": {},
     "output_type": "display_data"
    }
   ],
   "source": [
    "print(trigram_l_train)\n",
    "print(trigram_l_dev)\n",
    "print(trigram_l_test)\n",
    "fig,ax = plt.subplots(1,1)\n",
    "plt.title('Trigram model with laplace smoothing',fontsize=14)\n",
    "plt.ylabel('Perplexity',fontsize=14)\n",
    "ax.set_xticks([0,1,2])\n",
    "ax.set_xticklabels(['Brown','Reuters','Gutenberg'],fontsize=13)\n",
    "line1, = plt.plot(range(3),trigram_l_train,'ys-')\n",
    "line2, = plt.plot(range(3),trigram_l_dev,'bs-')\n",
    "line3, = plt.plot(range(3),trigram_l_test,'rs-')\n",
    "plt.legend([line1,line2,line3],[\"Training\",\"Dev\",\"Test\"])"
   ]
  },
  {
   "cell_type": "code",
   "execution_count": 42,
   "metadata": {},
   "outputs": [
    {
     "data": {
      "text/plain": [
       "<matplotlib.legend.Legend at 0x1a49097b90>"
      ]
     },
     "execution_count": 42,
     "metadata": {},
     "output_type": "execute_result"
    },
    {
     "data": {
      "image/png": "[encoded data removed]",
      "text/plain": [
       "<matplotlib.figure.Figure at 0x1a49cccad0>"
      ]
     },
     "metadata": {},
     "output_type": "display_data"
    }
   ],
   "source": [
    "## comparison of all unigram, bigram and trigrams\n",
    "fig,ax = plt.subplots(1,1)\n",
    "plt.title('Test data perplexity for various models',fontsize=14)\n",
    "plt.ylabel('Perplexity',fontsize=14)\n",
    "ax.set_xticks([0,1,2])\n",
    "ax.set_xticklabels(['Brown','Reuters','Gutenberg'],fontsize=13)\n",
    "line1, = plt.semilogy(range(3),bigram_test,'ys-')\n",
    "line2, = plt.semilogy(range(3),trigram_test,'bs-')\n",
    "line3, = plt.semilogy(range(3),unigram_test,'rs-')\n",
    "line4, = plt.semilogy(range(3),trigram_l_test,'gs-')\n",
    "plt.legend([line1,line2,line3,line4],[\"Bigram-backoff\",\"Trigram-backoff\",\"Unigram-backoff\",\"Trigram-laplace\"],loc='best')"
   ]
  },
  {
   "cell_type": "code",
   "execution_count": null,
   "metadata": {
    "collapsed": true
   },
   "outputs": [],
   "source": []
  }
 ],
 "metadata": {
  "kernelspec": {
   "display_name": "Python 2",
   "language": "python",
   "name": "python2"
  },
  "language_info": {
   "codemirror_mode": {
    "name": "ipython",
    "version": 2
   },
   "file_extension": ".py",
   "mimetype": "text/x-python",
   "name": "python",
   "nbconvert_exporter": "python",
   "pygments_lexer": "ipython2",
   "version": "2.7.13"
  }
 },
 "nbformat": 4,
 "nbformat_minor": 2
}
